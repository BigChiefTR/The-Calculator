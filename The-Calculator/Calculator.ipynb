{
 "cells": [
  {
   "cell_type": "code",
   "execution_count": 4,
   "metadata": {},
   "outputs": [
    {
     "name": "stdout",
     "output_type": "stream",
     "text": [
      " * Serving Flask app '__main__' (lazy loading)\n",
      " * Environment: production\n",
      "\u001b[31m   WARNING: This is a development server. Do not use it in a production deployment.\u001b[0m\n",
      "\u001b[2m   Use a production WSGI server instead.\u001b[0m\n",
      " * Debug mode: off\n"
     ]
    },
    {
     "name": "stderr",
     "output_type": "stream",
     "text": [
      " * Running on http://127.0.0.1:5000 (Press CTRL+C to quit)\n",
      "127.0.0.1 - - [08/Apr/2022 23:14:41] \"GET / HTTP/1.1\" 200 -\n",
      "127.0.0.1 - - [08/Apr/2022 23:14:48] \"POST /calculate HTTP/1.1\" 200 -\n"
     ]
    }
   ],
   "source": [
    "from flask import Flask, render_template, request\n",
    "\n",
    "app = Flask(__name__)\n",
    "\n",
    "\n",
    "@app.route('/')\n",
    "def main():\n",
    "    return render_template(\"index.html\")\n",
    "\n",
    "\n",
    "@app.route(\"/calculate\", methods=['POST'])\n",
    "def calculate():\n",
    "    num1 = request.form['num1']\n",
    "    num2 = request.form['num2']\n",
    "    operation = request.form['operation']\n",
    "\n",
    "    if operation == 'add':\n",
    "        result = float(num1) + float(num2)\n",
    "        return render_template('index.html', result=result)\n",
    "\n",
    "    elif operation == 'subtract':\n",
    "        result = float(num1) - float(num2)\n",
    "        return render_template('index.html', result=result)\n",
    "\n",
    "    elif operation == 'multiply':\n",
    "        result = float(num1) * float(num2)\n",
    "        return render_template('index.html', result=result)\n",
    "\n",
    "    elif operation == 'divide':\n",
    "        result = float(num1) / float(num2)\n",
    "        return render_template('index.html', result=result)\n",
    "   \n",
    "    elif operation == 'power':\n",
    "        result = float(num1) ** float(num2)\n",
    "        return render_template('index.html', result=result)\n",
    "   \n",
    "    else:\n",
    "        return render_template('index.html')\n",
    "\n",
    "app.run(port=5000)\n"
   ]
  }
 ],
 "metadata": {
  "interpreter": {
   "hash": "eb1112837ed715d51d49d6ac42b1e3f94e4a556e6f55f8fcd8edbc9c1ee6e671"
  },
  "kernelspec": {
   "display_name": "Python 3.9.7 64-bit",
   "language": "python",
   "name": "python3"
  },
  "language_info": {
   "codemirror_mode": {
    "name": "ipython",
    "version": 3
   },
   "file_extension": ".py",
   "mimetype": "text/x-python",
   "name": "python",
   "nbconvert_exporter": "python",
   "pygments_lexer": "ipython3",
   "version": "3.9.7"
  },
  "orig_nbformat": 4
 },
 "nbformat": 4,
 "nbformat_minor": 2
}
